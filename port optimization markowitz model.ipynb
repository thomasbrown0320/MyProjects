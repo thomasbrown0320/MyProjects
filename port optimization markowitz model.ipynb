{
 "cells": [
  {
   "cell_type": "code",
   "execution_count": 296,
   "metadata": {},
   "outputs": [],
   "source": [
    "import yfinance as yf\n",
    "import scipy\n",
    "from scipy import linalg as SLA\n",
    "from scipy import optimize as opt\n",
    "import numpy as np\n",
    "from numpy import linalg as LA\n",
    "import cvxopt as cv\n",
    "import mosek\n",
    "from mosek import fusion\n",
    "from mosek.fusion import *\n",
    "import mosek.fusion.pythonic \n",
    "import pandas as pd\n",
    "import sys\n",
    "import matplotlib.pyplot as plt"
   ]
  },
  {
   "cell_type": "code",
   "execution_count": 326,
   "metadata": {},
   "outputs": [
    {
     "name": "stderr",
     "output_type": "stream",
     "text": [
      "[*********************100%***********************]  10 of 10 completed\n"
     ]
    }
   ],
   "source": [
    "#Top 10 most active tech stocks in the US\n",
    "tickers = ['MSFT','ORCL','ADBE','PANW','PLTR','SNPS','CRWD','FTNT','SQ','NET']\n",
    "\n",
    "#convert raw data into a pandas dataframe object and select closing price returns\n",
    "raw = yf.download(tickers,period='5y',interval='1wk')\n",
    "data = pd.DataFrame(raw)\n",
    "rets = np.log(data/data.shift(1))\n",
    "rets = rets.dropna()\n",
    "rets = rets.Close\n",
    "\n",
    "covM = np.asarray(rets.cov() * 260)\n",
    "mu = np.asarray(rets.mean() * 260)"
   ]
  },
  {
   "cell_type": "code",
   "execution_count": 327,
   "metadata": {},
   "outputs": [],
   "source": [
    "#Calculate covariance matrix of returns\n",
    "noa = len(tickers)\n",
    "weights = np.random.random(noa)\n",
    "weights /= np.sum(weights)\n",
    "\n",
    "#Define functions we want to optimize for\n",
    "def port_ret(weights):\n",
    "    return np.sum(weights * rets.mean() * 260)\n",
    "def port_vol(weights):\n",
    "    return np.dot(weights.T,np.dot(covM,weights))"
   ]
  },
  {
   "cell_type": "code",
   "execution_count": 348,
   "metadata": {},
   "outputs": [],
   "source": [
    "#We want our portfolio subject to Ax=B linear constraints\n",
    "# Define function solving the optimization model\n",
    "def modifiedMarkowitz(N, m, G, gammas, slack):\n",
    "    with Model(\"markowitz\") as M:\n",
    "        riskgrad = []\n",
    "        port = []\n",
    "        slack = []\n",
    "        # Settings\n",
    "        #M.setLogHandler(sys.stdout) \n",
    "\n",
    "        # Decision variable (fraction of holdings in each security)\n",
    "        # The variable x is restricted to be positive, which imposes the constraint of no short-selling.   \n",
    "        x = M.variable(\"x\", N, Domain.greaterThan(0.0))\n",
    "        if slack:\n",
    "            s = M.variable(\"slack\", Domain.unbounded())\n",
    "            M.constraint('budget', Expr.sum(x) == 1 + s)\n",
    "            gamma = M.parameter()\n",
    "            for g in gammas:\n",
    "                gamma.setValue(g)\n",
    "            # Solve optimization\n",
    "                M.solve()\n",
    "            # Check if the solution is an optimal point\n",
    "                solsta = M.getPrimalSolutionStatus()\n",
    "                if (solsta != SolutionStatus.Optimal):\n",
    "                    # See https://docs.mosek.com/latest/pythonfusion/accessing-solution.html about handling solution statuses.\n",
    "                    raise Exception(\"Unexpected solution status!\") \n",
    "                returns = M.primalObjValue()\n",
    "                riskgrad.append(returns)\n",
    "                port.append(x.level())\n",
    "                slack.append(s.level())\n",
    "            return riskgrad,port,slack\n",
    "\n",
    "        M.constraint('budget', Expr.sum(x) == 1)\n",
    "        # Objective \n",
    "        M.objective('obj', ObjectiveSense.Maximize, x.T @ m)\n",
    "\n",
    "        # Imposes a bound on the risk\n",
    "        M.constraint('risk', Expr.vstack(gammas, 0.5, G.T @ x), Domain.inRotatedQCone())\n",
    "        solsta = M.getPrimalSolutionStatus()\n",
    "        if (solsta != SolutionStatus.Optimal):\n",
    "        # See https://docs.mosek.com/latest/pythonfusion/accessing-solution.html about handling solution statuses.\n",
    "            raise Exception(\"Unexpected solution status!\") \n",
    "        returns = M.primalObjValue()\n",
    "        portfolio = x.level()\n",
    "\n",
    "    return portfolio,returns"
   ]
  },
  {
   "cell_type": "code",
   "execution_count": 353,
   "metadata": {},
   "outputs": [
    {
     "ename": "TypeError",
     "evalue": "modifiedMarkowitz() got an unexpected keyword argument 'slacks'",
     "output_type": "error",
     "traceback": [
      "\u001b[0;31m---------------------------------------------------------------------------\u001b[0m",
      "\u001b[0;31mTypeError\u001b[0m                                 Traceback (most recent call last)",
      "\u001b[0;32m/var/folders/8v/nld_rm8n0v3gq8k_ygvspx940000gn/T/ipykernel_35151/3059865265.py\u001b[0m in \u001b[0;36m<module>\u001b[0;34m\u001b[0m\n\u001b[1;32m      2\u001b[0m \u001b[0;31m#Convert variables into Matrix fusion objects\u001b[0m\u001b[0;34m\u001b[0m\u001b[0;34m\u001b[0m\u001b[0m\n\u001b[1;32m      3\u001b[0m \u001b[0mgammas\u001b[0m \u001b[0;34m=\u001b[0m \u001b[0mnp\u001b[0m\u001b[0;34m.\u001b[0m\u001b[0mlinspace\u001b[0m\u001b[0;34m(\u001b[0m\u001b[0;36m0.01\u001b[0m\u001b[0;34m,\u001b[0m\u001b[0;36m0.5\u001b[0m\u001b[0;34m,\u001b[0m\u001b[0;36m30\u001b[0m\u001b[0;34m)\u001b[0m\u001b[0;34m\u001b[0m\u001b[0;34m\u001b[0m\u001b[0m\n\u001b[0;32m----> 4\u001b[0;31m \u001b[0malphas\u001b[0m\u001b[0;34m,\u001b[0m\u001b[0mports\u001b[0m\u001b[0;34m,\u001b[0m\u001b[0mslacks\u001b[0m \u001b[0;34m=\u001b[0m \u001b[0mmodifiedMarkowitz\u001b[0m\u001b[0;34m(\u001b[0m\u001b[0mnoa\u001b[0m\u001b[0;34m,\u001b[0m\u001b[0mmu\u001b[0m\u001b[0;34m,\u001b[0m\u001b[0mG\u001b[0m\u001b[0;34m,\u001b[0m\u001b[0mgammas\u001b[0m\u001b[0;34m,\u001b[0m\u001b[0mslacks\u001b[0m\u001b[0;34m=\u001b[0m\u001b[0;32mTrue\u001b[0m\u001b[0;34m)\u001b[0m\u001b[0;34m\u001b[0m\u001b[0;34m\u001b[0m\u001b[0m\n\u001b[0m\u001b[1;32m      5\u001b[0m \u001b[0;34m\u001b[0m\u001b[0m\n\u001b[1;32m      6\u001b[0m \u001b[0mplt\u001b[0m\u001b[0;34m.\u001b[0m\u001b[0mplot\u001b[0m\u001b[0;34m(\u001b[0m\u001b[0mgammas\u001b[0m\u001b[0;34m,\u001b[0m\u001b[0malphas\u001b[0m\u001b[0;34m,\u001b[0m\u001b[0;34m'.'\u001b[0m\u001b[0;34m)\u001b[0m\u001b[0;34m\u001b[0m\u001b[0;34m\u001b[0m\u001b[0m\n",
      "\u001b[0;31mTypeError\u001b[0m: modifiedMarkowitz() got an unexpected keyword argument 'slacks'"
     ]
    }
   ],
   "source": [
    "G = SLA.cholesky(covM)\n",
    "#Convert variables into Matrix fusion objects\n",
    "gammas = np.linspace(0.01,0.5,30)\n",
    "alphas,ports,slacks = modifiedMarkowitz(noa,mu,G,gammas,slacks=True)\n",
    "\n",
    "plt.plot(gammas,alphas,'.')\n",
    "plt.xlabel('variance')\n",
    "plt.ylabel('portfolio return')"
   ]
  },
  {
   "cell_type": "code",
   "execution_count": 354,
   "metadata": {},
   "outputs": [],
   "source": [
    "mu = np.array([0.07197349, 0.15518171, 0.17535435, 0.0898094 , 0.42895777, 0.39291844, 0.32170722, 0.18378628])\n",
    "Sigma = np.array([\n",
    "        [0.09460323, 0.03735969, 0.03488376, 0.03483838, 0.05420885, 0.03682539, 0.03209623, 0.03271886],\n",
    "        [0.03735969, 0.07746293, 0.03868215, 0.03670678, 0.03816653, 0.03634422, 0.0356449 , 0.03422235],\n",
    "        [0.03488376, 0.03868215, 0.06241065, 0.03364444, 0.03949475, 0.03690811, 0.03383847, 0.02433733],\n",
    "        [0.03483838, 0.03670678, 0.03364444, 0.06824955, 0.04017978, 0.03348263, 0.04360484, 0.03713009],\n",
    "        [0.05420885, 0.03816653, 0.03949475, 0.04017978, 0.17243352, 0.07886889, 0.06999607, 0.05010711],\n",
    "        [0.03682539, 0.03634422, 0.03690811, 0.03348263, 0.07886889, 0.09093307, 0.05364518, 0.04489357],\n",
    "        [0.03209623, 0.0356449 , 0.03383847, 0.04360484, 0.06999607, 0.05364518, 0.09649728, 0.04419974],\n",
    "        [0.03271886, 0.03422235, 0.02433733, 0.03713009, 0.05010711, 0.04489357, 0.04419974, 0.08159633]\n",
    "      ])\n",
    "N = mu.shape[0]\n",
    "gamma2 = 0.05\n",
    "G = SLA.cholesky(Sigma)\n",
    "\n",
    "mu2 = np.asarray(rets.mean() * 260)\n",
    "Sigma2 = np.asarray(rets.cov() * 260)\n",
    "N2 = mu2.shape[0]\n",
    "G2 = SLA.cholesky(Sigma2)"
   ]
  },
  {
   "cell_type": "code",
   "execution_count": 385,
   "metadata": {},
   "outputs": [
    {
     "ename": "Exception",
     "evalue": "Unexpected solution status!",
     "output_type": "error",
     "traceback": [
      "\u001b[0;31m---------------------------------------------------------------------------\u001b[0m",
      "\u001b[0;31mException\u001b[0m                                 Traceback (most recent call last)",
      "\u001b[0;32m/var/folders/8v/nld_rm8n0v3gq8k_ygvspx940000gn/T/ipykernel_35151/2897744218.py\u001b[0m in \u001b[0;36m<module>\u001b[0;34m\u001b[0m\n\u001b[0;32m----> 1\u001b[0;31m \u001b[0mf\u001b[0m\u001b[0;34m,\u001b[0m\u001b[0mx\u001b[0m \u001b[0;34m=\u001b[0m \u001b[0mmodifiedMarkowitz\u001b[0m\u001b[0;34m(\u001b[0m\u001b[0mN\u001b[0m\u001b[0;34m,\u001b[0m\u001b[0mmu\u001b[0m\u001b[0;34m,\u001b[0m\u001b[0mG\u001b[0m\u001b[0;34m,\u001b[0m\u001b[0mgamma2\u001b[0m\u001b[0;34m,\u001b[0m\u001b[0mslack\u001b[0m\u001b[0;34m=\u001b[0m\u001b[0;32mFalse\u001b[0m\u001b[0;34m)\u001b[0m\u001b[0;34m\u001b[0m\u001b[0;34m\u001b[0m\u001b[0m\n\u001b[0m",
      "\u001b[0;32m/var/folders/8v/nld_rm8n0v3gq8k_ygvspx940000gn/T/ipykernel_35151/868521760.py\u001b[0m in \u001b[0;36mmodifiedMarkowitz\u001b[0;34m(N, m, G, gammas, slack)\u001b[0m\n\u001b[1;32m     40\u001b[0m         \u001b[0;32mif\u001b[0m \u001b[0;34m(\u001b[0m\u001b[0msolsta\u001b[0m \u001b[0;34m!=\u001b[0m \u001b[0mSolutionStatus\u001b[0m\u001b[0;34m.\u001b[0m\u001b[0mOptimal\u001b[0m\u001b[0;34m)\u001b[0m\u001b[0;34m:\u001b[0m\u001b[0;34m\u001b[0m\u001b[0;34m\u001b[0m\u001b[0m\n\u001b[1;32m     41\u001b[0m         \u001b[0;31m# See https://docs.mosek.com/latest/pythonfusion/accessing-solution.html about handling solution statuses.\u001b[0m\u001b[0;34m\u001b[0m\u001b[0;34m\u001b[0m\u001b[0m\n\u001b[0;32m---> 42\u001b[0;31m             \u001b[0;32mraise\u001b[0m \u001b[0mException\u001b[0m\u001b[0;34m(\u001b[0m\u001b[0;34m\"Unexpected solution status!\"\u001b[0m\u001b[0;34m)\u001b[0m\u001b[0;34m\u001b[0m\u001b[0;34m\u001b[0m\u001b[0m\n\u001b[0m\u001b[1;32m     43\u001b[0m         \u001b[0mreturns\u001b[0m \u001b[0;34m=\u001b[0m \u001b[0mM\u001b[0m\u001b[0;34m.\u001b[0m\u001b[0mprimalObjValue\u001b[0m\u001b[0;34m(\u001b[0m\u001b[0;34m)\u001b[0m\u001b[0;34m\u001b[0m\u001b[0;34m\u001b[0m\u001b[0m\n\u001b[1;32m     44\u001b[0m         \u001b[0mportfolio\u001b[0m \u001b[0;34m=\u001b[0m \u001b[0mx\u001b[0m\u001b[0;34m.\u001b[0m\u001b[0mlevel\u001b[0m\u001b[0;34m(\u001b[0m\u001b[0;34m)\u001b[0m\u001b[0;34m\u001b[0m\u001b[0;34m\u001b[0m\u001b[0m\n",
      "\u001b[0;31mException\u001b[0m: Unexpected solution status!"
     ]
    }
   ],
   "source": [
    "f,x = modifiedMarkowitz(N,mu,G,gamma2,slack=False)"
   ]
  },
  {
   "cell_type": "code",
   "execution_count": 387,
   "metadata": {},
   "outputs": [
    {
     "ename": "ValueError",
     "evalue": "Invalid argument list vstack(array([0.01      , 0.02689655, 0.0437931 , 0.06068966, 0.07758621,\n       0.09448276, 0.11137931, 0.12827586, 0.14517241, 0.16206897,\n       0.17896552, 0.19586207, 0.21275862, 0.22965517, 0.24655172,\n       0.26344828, 0.28034483, 0.29724138, 0.31413793, 0.33103448,\n       0.34793103, 0.36482759, 0.38172414, 0.39862069, 0.41551724,\n       0.43241379, 0.44931034, 0.4662069 , 0.48310345, 0.5       ]),0.5,mosek.fusion.ExprReshape). Candidates are\n\tmosek.fusion.Expr.vstack(array(mosek.fusion.Expression,ndim=1))\n\tmosek.fusion.Expr.vstack(mosek.fusion.Expression,double)\n\tmosek.fusion.Expr.vstack(double,mosek.fusion.Expression)\n\tmosek.fusion.Expr.vstack(mosek.fusion.Expression,mosek.fusion.Expression)\n\tmosek.fusion.Expr.vstack(double,mosek.fusion.Expression,mosek.fusion.Expression)\n\tmosek.fusion.Expr.vstack(mosek.fusion.Expression,double,mosek.fusion.Expression)\n\tmosek.fusion.Expr.vstack(double,mosek.fusion.Expression,double)\n\tmosek.fusion.Expr.vstack(mosek.fusion.Expression,mosek.fusion.Expression,double)\n\tmosek.fusion.Expr.vstack(mosek.fusion.Expression,double,double)\n\tmosek.fusion.Expr.vstack(double,double,mosek.fusion.Expression)\n\tmosek.fusion.Expr.vstack(double,double,double)\n\tmosek.fusion.Expr.vstack(mosek.fusion.Expression,mosek.fusion.Expression,mosek.fusion.Expression)",
     "output_type": "error",
     "traceback": [
      "\u001b[0;31m---------------------------------------------------------------------------\u001b[0m",
      "\u001b[0;31mValueError\u001b[0m                                Traceback (most recent call last)",
      "\u001b[0;32m/var/folders/8v/nld_rm8n0v3gq8k_ygvspx940000gn/T/ipykernel_35151/1103340699.py\u001b[0m in \u001b[0;36m<module>\u001b[0;34m\u001b[0m\n\u001b[0;32m----> 1\u001b[0;31m \u001b[0mf\u001b[0m\u001b[0;34m,\u001b[0m\u001b[0mx\u001b[0m\u001b[0;34m,\u001b[0m\u001b[0my\u001b[0m \u001b[0;34m=\u001b[0m \u001b[0mmodifiedMarkowitz\u001b[0m\u001b[0;34m(\u001b[0m\u001b[0mN\u001b[0m\u001b[0;34m,\u001b[0m\u001b[0mmu\u001b[0m\u001b[0;34m,\u001b[0m\u001b[0mG\u001b[0m\u001b[0;34m,\u001b[0m\u001b[0mgammas\u001b[0m\u001b[0;34m,\u001b[0m\u001b[0mslack\u001b[0m\u001b[0;34m=\u001b[0m\u001b[0;32mFalse\u001b[0m\u001b[0;34m)\u001b[0m\u001b[0;34m\u001b[0m\u001b[0;34m\u001b[0m\u001b[0m\n\u001b[0m",
      "\u001b[0;32m/var/folders/8v/nld_rm8n0v3gq8k_ygvspx940000gn/T/ipykernel_35151/868521760.py\u001b[0m in \u001b[0;36mmodifiedMarkowitz\u001b[0;34m(N, m, G, gammas, slack)\u001b[0m\n\u001b[1;32m     36\u001b[0m \u001b[0;34m\u001b[0m\u001b[0m\n\u001b[1;32m     37\u001b[0m         \u001b[0;31m# Imposes a bound on the risk\u001b[0m\u001b[0;34m\u001b[0m\u001b[0;34m\u001b[0m\u001b[0m\n\u001b[0;32m---> 38\u001b[0;31m         \u001b[0mM\u001b[0m\u001b[0;34m.\u001b[0m\u001b[0mconstraint\u001b[0m\u001b[0;34m(\u001b[0m\u001b[0;34m'risk'\u001b[0m\u001b[0;34m,\u001b[0m \u001b[0mExpr\u001b[0m\u001b[0;34m.\u001b[0m\u001b[0mvstack\u001b[0m\u001b[0;34m(\u001b[0m\u001b[0mgammas\u001b[0m\u001b[0;34m,\u001b[0m \u001b[0;36m0.5\u001b[0m\u001b[0;34m,\u001b[0m \u001b[0mG\u001b[0m\u001b[0;34m.\u001b[0m\u001b[0mT\u001b[0m \u001b[0;34m@\u001b[0m \u001b[0mx\u001b[0m\u001b[0;34m)\u001b[0m\u001b[0;34m,\u001b[0m \u001b[0mDomain\u001b[0m\u001b[0;34m.\u001b[0m\u001b[0minRotatedQCone\u001b[0m\u001b[0;34m(\u001b[0m\u001b[0;34m)\u001b[0m\u001b[0;34m)\u001b[0m\u001b[0;34m\u001b[0m\u001b[0;34m\u001b[0m\u001b[0m\n\u001b[0m\u001b[1;32m     39\u001b[0m         \u001b[0msolsta\u001b[0m \u001b[0;34m=\u001b[0m \u001b[0mM\u001b[0m\u001b[0;34m.\u001b[0m\u001b[0mgetPrimalSolutionStatus\u001b[0m\u001b[0;34m(\u001b[0m\u001b[0;34m)\u001b[0m\u001b[0;34m\u001b[0m\u001b[0;34m\u001b[0m\u001b[0m\n\u001b[1;32m     40\u001b[0m         \u001b[0;32mif\u001b[0m \u001b[0;34m(\u001b[0m\u001b[0msolsta\u001b[0m \u001b[0;34m!=\u001b[0m \u001b[0mSolutionStatus\u001b[0m\u001b[0;34m.\u001b[0m\u001b[0mOptimal\u001b[0m\u001b[0;34m)\u001b[0m\u001b[0;34m:\u001b[0m\u001b[0;34m\u001b[0m\u001b[0;34m\u001b[0m\u001b[0m\n",
      "\u001b[0;32m~/opt/anaconda3/lib/python3.9/site-packages/mosek/fusion/impl/_implementation.py\u001b[0m in \u001b[0;36mvstack\u001b[0;34m(*args)\u001b[0m\n\u001b[1;32m  32404\u001b[0m       \u001b[0;32mreturn\u001b[0m \u001b[0mmosek_fusion_Expr\u001b[0m\u001b[0;34m.\u001b[0m\u001b[0m_vstack_alt_Lmosek_4fusion_4Expression_2Lmosek_4fusion_4Expression_2Lmosek_4fusion_4Expression_2\u001b[0m\u001b[0;34m(\u001b[0m\u001b[0;34m*\u001b[0m\u001b[0margs\u001b[0m\u001b[0;34m)\u001b[0m\u001b[0;34m\u001b[0m\u001b[0;34m\u001b[0m\u001b[0m\n\u001b[1;32m  32405\u001b[0m     \u001b[0;32melse\u001b[0m\u001b[0;34m:\u001b[0m\u001b[0;34m\u001b[0m\u001b[0;34m\u001b[0m\u001b[0m\n\u001b[0;32m> 32406\u001b[0;31m       \u001b[0;32mraise\u001b[0m \u001b[0mValueError\u001b[0m\u001b[0;34m(\u001b[0m\u001b[0;34m'Invalid argument list vstack('\u001b[0m\u001b[0;34m+\u001b[0m\u001b[0;34m','\u001b[0m\u001b[0;34m.\u001b[0m\u001b[0mjoin\u001b[0m\u001b[0;34m(\u001b[0m\u001b[0mmap\u001b[0m\u001b[0;34m(\u001b[0m\u001b[0mrepr\u001b[0m\u001b[0;34m,\u001b[0m\u001b[0margs\u001b[0m\u001b[0;34m)\u001b[0m\u001b[0;34m)\u001b[0m\u001b[0;34m+\u001b[0m\u001b[0;34m'). Candidates are\\n\\tmosek.fusion.Expr.vstack(array(mosek.fusion.Expression,ndim=1))\\n\\tmosek.fusion.Expr.vstack(mosek.fusion.Expression,double)\\n\\tmosek.fusion.Expr.vstack(double,mosek.fusion.Expression)\\n\\tmosek.fusion.Expr.vstack(mosek.fusion.Expression,mosek.fusion.Expression)\\n\\tmosek.fusion.Expr.vstack(double,mosek.fusion.Expression,mosek.fusion.Expression)\\n\\tmosek.fusion.Expr.vstack(mosek.fusion.Expression,double,mosek.fusion.Expression)\\n\\tmosek.fusion.Expr.vstack(double,mosek.fusion.Expression,double)\\n\\tmosek.fusion.Expr.vstack(mosek.fusion.Expression,mosek.fusion.Expression,double)\\n\\tmosek.fusion.Expr.vstack(mosek.fusion.Expression,double,double)\\n\\tmosek.fusion.Expr.vstack(double,double,mosek.fusion.Expression)\\n\\tmosek.fusion.Expr.vstack(double,double,double)\\n\\tmosek.fusion.Expr.vstack(mosek.fusion.Expression,mosek.fusion.Expression,mosek.fusion.Expression)'\u001b[0m\u001b[0;34m)\u001b[0m\u001b[0;34m\u001b[0m\u001b[0;34m\u001b[0m\u001b[0m\n\u001b[0m\u001b[1;32m  32407\u001b[0m   \u001b[0;34m@\u001b[0m\u001b[0mstaticmethod\u001b[0m\u001b[0;34m\u001b[0m\u001b[0;34m\u001b[0m\u001b[0m\n\u001b[1;32m  32408\u001b[0m   \u001b[0;32mdef\u001b[0m \u001b[0mdot\u001b[0m\u001b[0;34m(\u001b[0m\u001b[0;34m*\u001b[0m\u001b[0margs\u001b[0m\u001b[0;34m)\u001b[0m\u001b[0;34m:\u001b[0m\u001b[0;34m\u001b[0m\u001b[0;34m\u001b[0m\u001b[0m\n",
      "\u001b[0;31mValueError\u001b[0m: Invalid argument list vstack(array([0.01      , 0.02689655, 0.0437931 , 0.06068966, 0.07758621,\n       0.09448276, 0.11137931, 0.12827586, 0.14517241, 0.16206897,\n       0.17896552, 0.19586207, 0.21275862, 0.22965517, 0.24655172,\n       0.26344828, 0.28034483, 0.29724138, 0.31413793, 0.33103448,\n       0.34793103, 0.36482759, 0.38172414, 0.39862069, 0.41551724,\n       0.43241379, 0.44931034, 0.4662069 , 0.48310345, 0.5       ]),0.5,mosek.fusion.ExprReshape). Candidates are\n\tmosek.fusion.Expr.vstack(array(mosek.fusion.Expression,ndim=1))\n\tmosek.fusion.Expr.vstack(mosek.fusion.Expression,double)\n\tmosek.fusion.Expr.vstack(double,mosek.fusion.Expression)\n\tmosek.fusion.Expr.vstack(mosek.fusion.Expression,mosek.fusion.Expression)\n\tmosek.fusion.Expr.vstack(double,mosek.fusion.Expression,mosek.fusion.Expression)\n\tmosek.fusion.Expr.vstack(mosek.fusion.Expression,double,mosek.fusion.Expression)\n\tmosek.fusion.Expr.vstack(double,mosek.fusion.Expression,double)\n\tmosek.fusion.Expr.vstack(mosek.fusion.Expression,mosek.fusion.Expression,double)\n\tmosek.fusion.Expr.vstack(mosek.fusion.Expression,double,double)\n\tmosek.fusion.Expr.vstack(double,double,mosek.fusion.Expression)\n\tmosek.fusion.Expr.vstack(double,double,double)\n\tmosek.fusion.Expr.vstack(mosek.fusion.Expression,mosek.fusion.Expression,mosek.fusion.Expression)"
     ]
    }
   ],
   "source": [
    "f,x,y = modifiedMarkowitz(N,mu,G,gamma2,slack=False)"
   ]
  }
 ],
 "metadata": {
  "kernelspec": {
   "display_name": "base",
   "language": "python",
   "name": "python3"
  },
  "language_info": {
   "codemirror_mode": {
    "name": "ipython",
    "version": 3
   },
   "file_extension": ".py",
   "mimetype": "text/x-python",
   "name": "python",
   "nbconvert_exporter": "python",
   "pygments_lexer": "ipython3",
   "version": "3.9.7"
  }
 },
 "nbformat": 4,
 "nbformat_minor": 2
}
